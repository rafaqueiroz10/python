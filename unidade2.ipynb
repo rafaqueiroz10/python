{
 "cells": [
  {
   "cell_type": "code",
   "execution_count": 3,
   "metadata": {},
   "outputs": [],
   "source": [
    "# exercício 0.1\n",
    "from typing import List\n",
    "def entendendo_para_cada(vetor_elementos:List, elemento_busca) -> int: \n",
    "    quantidade_elementos = 0\n",
    "    \n",
    "    for elemento in vetor_elementos:\n",
    "        if elemento == elemento_busca:\n",
    "            quantidade_elementos += 1\n",
    "    \n",
    "    return quantidade_elementos"
   ]
  },
  {
   "cell_type": "code",
   "execution_count": 5,
   "metadata": {},
   "outputs": [
    {
     "name": "stdout",
     "output_type": "stream",
     "text": [
      "quantidade: 3\n",
      "quantidade: 1\n",
      "quantidade: 3\n"
     ]
    }
   ],
   "source": [
    "# teste\n",
    "vetor = [1,2,3,4,1,5,6,1]\n",
    "elementoBusca = 1\n",
    "\n",
    "qtd = entendendo_para_cada(vetor, elementoBusca)\n",
    "print(f\"quantidade: {qtd}\")\n",
    "\n",
    "vetor = [1,2,3,4,1,5,6,1]\n",
    "elementoBusca = 3\n",
    "\n",
    "qtd = entendendo_para_cada(vetor, elementoBusca)\n",
    "print(f\"quantidade: {qtd}\")\n",
    "\n",
    "vetor = [100, 12, 42, 32, 23, 12, 12, 90, 50]\n",
    "elementoBusca = 12\n",
    "\n",
    "qtd = entendendo_para_cada(vetor, elementoBusca)\n",
    "print(f\"quantidade: {qtd}\")"
   ]
  },
  {
   "cell_type": "code",
   "execution_count": 55,
   "metadata": {},
   "outputs": [],
   "source": [
    "# exercício 0.2:\n",
    "def obtem_mes(num_mes):\n",
    "    if(num_mes < 1 or num_mes > 12):\n",
    "        return f\"{num_mes} é inválido\"\n",
    "    \n",
    "    meses = [\n",
    "        \"janeiro\",\n",
    "        \"fevereiro\",\n",
    "        \"março\",\n",
    "        \"abril\",\n",
    "        \"maio\",\n",
    "        \"junho\",\n",
    "        \"julho\",\n",
    "        \"agosto\",\n",
    "        \"setembro\",\n",
    "        \"outubro\",\n",
    "        \"novembro\",\n",
    "        \"dezembro\"\n",
    "    ]\n",
    "    \n",
    "    return meses[num_mes-1]"
   ]
  },
  {
   "cell_type": "code",
   "execution_count": 57,
   "metadata": {},
   "outputs": [
    {
     "name": "stdout",
     "output_type": "stream",
     "text": [
      "Mês: janeiro\n",
      "Mês: julho\n"
     ]
    },
    {
     "data": {
      "text/plain": [
       "'13 é inválido'"
      ]
     },
     "execution_count": 57,
     "metadata": {},
     "output_type": "execute_result"
    }
   ],
   "source": [
    "#testes\n",
    "mes = obtem_mes(1)\n",
    "print(f\"Mês: {mes}\")\n",
    "\n",
    "obtem_mes(15)\n",
    "\n",
    "mes = obtem_mes(7)\n",
    "print(f\"Mês: {mes}\")\n",
    "\n",
    "obtem_mes(13)"
   ]
  },
  {
   "cell_type": "code",
   "execution_count": 28,
   "metadata": {},
   "outputs": [],
   "source": [
    "# exercício 1:\n",
    "def altura_bola (tempo, gravidade, velocidadeInicial):\n",
    "    altura = velocidadeInicial * tempo - (gravidade * tempo ** 2 / 2)\n",
    "    return altura\n",
    "\n",
    "def velocidade_bola (tempo, gravidade, velocidadeInicial):\n",
    "    velocidade = velocidadeInicial - gravidade * tempo\n",
    "    return velocidade\n",
    "\n",
    "def velocidade_altura_bola (velocidade_inicial, gravidade, n):\n",
    "    for i in range (1, n, 1):\n",
    "        altura = altura_bola (i, gravidade, velocidade_inicial)\n",
    "        velocidade = velocidade_bola (i, gravidade, velocidade_inicial)\n",
    "        print (f\"h({i}): {altura}\")\n",
    "        print (f\"v({i}): {velocidade}\")"
   ]
  },
  {
   "cell_type": "code",
   "execution_count": 29,
   "metadata": {},
   "outputs": [
    {
     "name": "stdout",
     "output_type": "stream",
     "text": [
      "h(1): -15.19\n",
      "v(1): -40.19\n",
      "h(2): -80.38\n",
      "v(2): -90.19\n",
      "h(3): -195.57\n",
      "v(3): -140.19\n",
      "h(4): -360.76\n",
      "v(4): -190.19\n",
      "h(5): -575.95\n",
      "v(5): -240.19\n",
      "h(6): -841.14\n",
      "v(6): -290.19\n",
      "h(7): -1156.33\n",
      "v(7): -340.19\n",
      "h(8): -1521.52\n",
      "v(8): -390.19\n",
      "h(9): -1936.71\n",
      "v(9): -440.19\n",
      "h(10): -2401.9\n",
      "v(10): -490.19\n",
      "h(11): -2917.09\n",
      "v(11): -540.19\n",
      "h(12): -3482.28\n",
      "v(12): -590.19\n",
      "h(13): -4097.47\n",
      "v(13): -640.19\n",
      "h(14): -4762.66\n",
      "v(14): -690.19\n",
      "h(15): -5477.85\n",
      "v(15): -740.19\n",
      "h(16): -6243.04\n",
      "v(16): -790.19\n",
      "h(17): -7058.23\n",
      "v(17): -840.19\n",
      "h(18): -7923.42\n",
      "v(18): -890.19\n",
      "h(19): -8838.61\n",
      "v(19): -940.19\n"
     ]
    }
   ],
   "source": [
    "# testes\n",
    "n = 20\n",
    "velocidade_altura_bola (9.81, 50, n)"
   ]
  },
  {
   "cell_type": "code",
   "execution_count": 30,
   "metadata": {},
   "outputs": [],
   "source": [
    "# exercício 2:\n",
    "def somatorio (n):\n",
    "    soma = 0\n",
    "    for i in range (2, n+1, 2):\n",
    "        soma += 1 / i\n",
    "    return soma"
   ]
  },
  {
   "cell_type": "code",
   "execution_count": 31,
   "metadata": {},
   "outputs": [
    {
     "name": "stdout",
     "output_type": "stream",
     "text": [
      "0\n",
      "1.1416666666666666\n",
      "2.2496026691647115\n"
     ]
    }
   ],
   "source": [
    "#testes\n",
    "som_1 = somatorio(1)\n",
    "print (som_1)\n",
    "som_2 = somatorio(10)\n",
    "print (som_2)\n",
    "som_3 = somatorio(100)\n",
    "print (som_3)"
   ]
  },
  {
   "cell_type": "code",
   "execution_count": 34,
   "metadata": {},
   "outputs": [],
   "source": [
    "# exercício 3:\n",
    "def obtem_posicao_elemento (vetor, elemento):\n",
    "    for i in range (len (vetor)):\n",
    "        if vetor[i] == elemento:\n",
    "            return i\n",
    "    \n",
    "    return None"
   ]
  },
  {
   "cell_type": "code",
   "execution_count": 35,
   "metadata": {},
   "outputs": [
    {
     "name": "stdout",
     "output_type": "stream",
     "text": [
      "0\n",
      "3\n"
     ]
    }
   ],
   "source": [
    "# teste\n",
    "cores = [\"azul\", \"roxo\", \"verde\", \"rosa\", \"azul\"]\n",
    "\n",
    "posicao1 = obtem_posicao_elemento(cores, \"azul\") \n",
    "posicao2 = obtem_posicao_elemento(cores, \"rosa\") \n",
    "\n",
    "#imprima abaixo as posições\n",
    "print (posicao1)\n",
    "print (posicao2)"
   ]
  },
  {
   "cell_type": "code",
   "execution_count": 36,
   "metadata": {},
   "outputs": [],
   "source": [
    "# exercício 4:\n",
    "def buscaMenorElemento (vetor):\n",
    "    menor = vetor[0]\n",
    "    for numero in vetor:\n",
    "        if numero < menor:\n",
    "            menor = numero\n",
    "    \n",
    "    return menor\n",
    "\n",
    "def buscaMaiorElemento (vetor):\n",
    "    maior = vetor[0]\n",
    "    for numero in vetor:\n",
    "        if numero > maior:\n",
    "            maior = numero\n",
    "    \n",
    "    return maior\n",
    "\n",
    "def operacao_vetor (vetor):\n",
    "    menor = buscaMenorElemento (vetor)\n",
    "    maior = buscaMaiorElemento (vetor)\n",
    "    return (menor + maior) / 2"
   ]
  },
  {
   "cell_type": "code",
   "execution_count": 37,
   "metadata": {},
   "outputs": [
    {
     "name": "stdout",
     "output_type": "stream",
     "text": [
      "8.0\n"
     ]
    }
   ],
   "source": [
    "# testes\n",
    "vetor = [4, 6, 7, 12, 9]\n",
    "resultado = operacao_vetor(vetor)\n",
    "#imprima o resultado\n",
    "print (resultado)"
   ]
  },
  {
   "cell_type": "code",
   "execution_count": 40,
   "metadata": {},
   "outputs": [],
   "source": [
    "# exercício 7:\n",
    "def fibonacci (tamanho_sequencia):\n",
    "    array_sequencia = [0,1]\n",
    "    for i in range (2, tamanho_sequencia, 1):\n",
    "        array_sequencia.append (array_sequencia[i-1] + array_sequencia[i-2])\n",
    "\n",
    "    return array_sequencia"
   ]
  },
  {
   "cell_type": "code",
   "execution_count": 42,
   "metadata": {},
   "outputs": [
    {
     "name": "stdout",
     "output_type": "stream",
     "text": [
      "[0, 1, 1, 2, 3, 5, 8, 13, 21, 34]\n",
      "[0, 1, 1, 2, 3, 5, 8, 13, 21, 34, 55, 89, 144, 233, 377, 610, 987, 1597, 2584, 4181, 6765, 10946, 17711, 28657, 46368]\n",
      "[0, 1, 1, 2, 3, 5, 8, 13, 21, 34, 55, 89, 144, 233, 377, 610, 987, 1597, 2584, 4181, 6765, 10946, 17711, 28657, 46368, 75025, 121393, 196418, 317811, 514229, 832040, 1346269, 2178309, 3524578, 5702887, 9227465, 14930352, 24157817, 39088169, 63245986, 102334155, 165580141, 267914296, 433494437, 701408733, 1134903170, 1836311903, 2971215073, 4807526976, 7778742049, 12586269025, 20365011074, 32951280099, 53316291173, 86267571272, 139583862445, 225851433717, 365435296162, 591286729879, 956722026041, 1548008755920, 2504730781961, 4052739537881, 6557470319842, 10610209857723, 17167680177565, 27777890035288, 44945570212853, 72723460248141, 117669030460994, 190392490709135, 308061521170129, 498454011879264, 806515533049393, 1304969544928657, 2111485077978050, 3416454622906707, 5527939700884757, 8944394323791464, 14472334024676221, 23416728348467685, 37889062373143906, 61305790721611591, 99194853094755497, 160500643816367088, 259695496911122585, 420196140727489673, 679891637638612258, 1100087778366101931, 1779979416004714189, 2880067194370816120, 4660046610375530309, 7540113804746346429, 12200160415121876738, 19740274219868223167, 31940434634990099905, 51680708854858323072, 83621143489848422977, 135301852344706746049, 218922995834555169026]\n"
     ]
    }
   ],
   "source": [
    "# teste\n",
    "seq_1 = fibonacci(10)\n",
    "print (seq_1)\n",
    "\n",
    "seq_2 = fibonacci (25)\n",
    "print (seq_2)\n",
    "\n",
    "seq_3 = fibonacci (100)\n",
    "print (seq_3)"
   ]
  },
  {
   "cell_type": "code",
   "execution_count": 52,
   "metadata": {},
   "outputs": [],
   "source": [
    "# exercício 8:\n",
    "def exibe_amigos (pessoas, amizades, nome_pessoa):\n",
    "    amigos = []\n",
    "    posicao_pessoa = obtem_posicao_elemento (pessoas, nome_pessoa)\n",
    "\n",
    "    for j in range (0, len (amizades), 1):\n",
    "        if (amizades[posicao_pessoa][j] == 1):\n",
    "            amigos.append (pessoas[j])\n",
    "    \n",
    "    return amigos\n",
    "\n",
    "def exibe_amigos_em_comum(pessoas, amizades, nome_pessoa_1, nome_pessoa_2):\n",
    "    amigos = []\n",
    "    posicao_pessoa_1 = obtem_posicao_elemento (pessoas, nome_pessoa_1)\n",
    "    posicao_pessoa_2 = obtem_posicao_elemento (pessoas, nome_pessoa_2)\n",
    "\n",
    "    for j in range (0, len (amizades), 1):\n",
    "        if (amizades[posicao_pessoa_1][j] == 1):\n",
    "            if (amizades[posicao_pessoa_2][j] == 1):\n",
    "                amigos.append (pessoas[j])\n",
    "\n",
    "    return amigos"
   ]
  },
  {
   "cell_type": "code",
   "execution_count": 54,
   "metadata": {},
   "outputs": [
    {
     "name": "stdout",
     "output_type": "stream",
     "text": [
      "Amigos de Bob: ['Alice', 'Bob']\n",
      "Amigos de Bob: ['Bob']\n"
     ]
    }
   ],
   "source": [
    "# testes:\n",
    "pessoas = [\"Alice\",\"Bob\",\"Carol\"]\n",
    "amizades = [[0,1,0],[1,1,0],[1,1,0]]\n",
    "\n",
    "amigos = exibe_amigos(pessoas, amizades,\"Bob\")\n",
    "print(f\"Amigos de Bob: {amigos}\")\n",
    "\n",
    "amigos = exibe_amigos_em_comum (pessoas, amizades, \"Bob\", \"Alice\")\n",
    "print(f\"Amigos de Bob: {amigos}\")"
   ]
  }
 ],
 "metadata": {
  "kernelspec": {
   "display_name": "Python 3",
   "language": "python",
   "name": "python3"
  },
  "language_info": {
   "codemirror_mode": {
    "name": "ipython",
    "version": 3
   },
   "file_extension": ".py",
   "mimetype": "text/x-python",
   "name": "python",
   "nbconvert_exporter": "python",
   "pygments_lexer": "ipython3",
   "version": "3.11.4"
  }
 },
 "nbformat": 4,
 "nbformat_minor": 2
}
