{
 "cells": [
  {
   "cell_type": "code",
   "execution_count": 11,
   "metadata": {},
   "outputs": [],
   "source": [
    "# exercício 0.1\n",
    "a = 10\n",
    "b = 5 \n",
    "texto = \"Olá\""
   ]
  },
  {
   "cell_type": "code",
   "execution_count": 10,
   "metadata": {},
   "outputs": [
    {
     "name": "stdout",
     "output_type": "stream",
     "text": [
      "10\n",
      "5\n",
      "Olá\n"
     ]
    }
   ],
   "source": [
    "# testes\n",
    "print (a)\n",
    "print (b)\n",
    "print (texto)"
   ]
  },
  {
   "cell_type": "code",
   "execution_count": null,
   "metadata": {},
   "outputs": [],
   "source": [
    "# exercício 0.2:\n",
    "def soma (a, b):\n",
    "    return a + b"
   ]
  },
  {
   "cell_type": "code",
   "execution_count": 12,
   "metadata": {},
   "outputs": [
    {
     "name": "stdout",
     "output_type": "stream",
     "text": [
      "5\n",
      "5\n"
     ]
    }
   ],
   "source": [
    "# testes\n",
    "print (soma (2, 3))\n",
    "print (soma (1, 4))"
   ]
  },
  {
   "cell_type": "code",
   "execution_count": 3,
   "metadata": {},
   "outputs": [],
   "source": [
    "# exercício 1:\n",
    "def altura_bola (tempo, gravidade, velocidadeInicial):\n",
    "    altura = velocidadeInicial * tempo - (gravidade * tempo ** 2 / 2)\n",
    "    return altura"
   ]
  },
  {
   "cell_type": "code",
   "execution_count": 2,
   "metadata": {},
   "outputs": [
    {
     "name": "stdout",
     "output_type": "stream",
     "text": [
      "Altura 1: 45.095\n",
      "Altura 2: 127.375\n",
      "Altura 3: 9.5\n"
     ]
    }
   ],
   "source": [
    "bolaA1 = altura_bola(1, 9.81, 50)\n",
    "print(f\"Altura 1: {bolaA1}\")\n",
    "bolaA2 = altura_bola(5, 9.81, 50)\n",
    "print(f\"Altura 2: {bolaA2}\")\n",
    "bolaA3 = altura_bola(10, 9.81, 50)\n",
    "print(f\"Altura 3: {bolaA3}\")"
   ]
  },
  {
   "cell_type": "code",
   "execution_count": 6,
   "metadata": {},
   "outputs": [],
   "source": [
    "# exercício 2:\n",
    "def velocidade_bola (tempo, gravidade, velocidadeInicial):\n",
    "    velocidade = velocidadeInicial - gravidade * tempo\n",
    "    return velocidade"
   ]
  },
  {
   "cell_type": "code",
   "execution_count": 5,
   "metadata": {},
   "outputs": [
    {
     "name": "stdout",
     "output_type": "stream",
     "text": [
      "Velocidade 1: 40.19\n",
      "Velocidade 2: 0.9499999999999957\n",
      "Velocidade 3: -48.10000000000001\n"
     ]
    }
   ],
   "source": [
    "bolaV1 = velocidade_bola(1, 9.81, 50)\n",
    "print(f\"Velocidade 1: {bolaV1}\")\n",
    "bolaV2 = velocidade_bola(5, 9.81, 50)\n",
    "print(f\"Velocidade 2: {bolaV2}\")\n",
    "bolaV3 = velocidade_bola(10, 9.81, 50)\n",
    "print(f\"Velocidade 3: {bolaV3}\")"
   ]
  }
 ],
 "metadata": {
  "kernelspec": {
   "display_name": "Python 3",
   "language": "python",
   "name": "python3"
  },
  "language_info": {
   "codemirror_mode": {
    "name": "ipython",
    "version": 3
   },
   "file_extension": ".py",
   "mimetype": "text/x-python",
   "name": "python",
   "nbconvert_exporter": "python",
   "pygments_lexer": "ipython3",
   "version": "3.11.4"
  }
 },
 "nbformat": 4,
 "nbformat_minor": 2
}
