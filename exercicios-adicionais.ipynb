{
 "cells": [
  {
   "cell_type": "code",
   "execution_count": null,
   "metadata": {},
   "outputs": [],
   "source": [
    "# maior(a,b): Retorna o maior valor entre a e b:"
   ]
  },
  {
   "cell_type": "code",
   "execution_count": 1,
   "metadata": {},
   "outputs": [
    {
     "name": "stdout",
     "output_type": "stream",
     "text": [
      "3\n",
      "5\n",
      "1\n"
     ]
    }
   ],
   "source": [
    "def maior (a, b):\n",
    "    if (a > b):\n",
    "        return a\n",
    "    return b\n",
    "\n",
    "print (maior (3, 2))\n",
    "print (maior (4, 5))\n",
    "print (maior (0, 1))"
   ]
  },
  {
   "cell_type": "code",
   "execution_count": 2,
   "metadata": {},
   "outputs": [],
   "source": [
    "# soma(lista,x): retorna o somatório dos valores passados \n",
    "# pela lista. O argumento x deve ser opcional que, se \n",
    "# passado, será somado ao resultado final."
   ]
  },
  {
   "cell_type": "code",
   "execution_count": 11,
   "metadata": {},
   "outputs": [
    {
     "name": "stdout",
     "output_type": "stream",
     "text": [
      "10\n",
      "12\n"
     ]
    }
   ],
   "source": [
    "def soma (lista, x=0):\n",
    "    soma = 0\n",
    "    for numero in lista:\n",
    "        soma += numero\n",
    "\n",
    "    return soma + x\n",
    "\n",
    "print (soma ([5, 3, 2]))\n",
    "print (soma ([5, 3, 2], 2))"
   ]
  },
  {
   "cell_type": "code",
   "execution_count": 9,
   "metadata": {},
   "outputs": [],
   "source": [
    "# media(lista): Retorna a média dos valores passados\n",
    "# pela lista."
   ]
  },
  {
   "cell_type": "code",
   "execution_count": 12,
   "metadata": {},
   "outputs": [
    {
     "name": "stdout",
     "output_type": "stream",
     "text": [
      "3.3333333333333335\n",
      "4.333333333333333\n"
     ]
    }
   ],
   "source": [
    "def media (lista):\n",
    "    resultado = soma (lista)\n",
    "    return resultado / len (lista)\n",
    "\n",
    "print (media ([5, 3, 2]))\n",
    "print (media ([4, 3, 6]))"
   ]
  },
  {
   "cell_type": "code",
   "execution_count": 13,
   "metadata": {},
   "outputs": [],
   "source": [
    "# valores_iguais(lista1, lista2): retorna uma lista \n",
    "# contendo os valores iguais entre as duas listas passadas\n",
    "# como parâmetro"
   ]
  },
  {
   "cell_type": "code",
   "execution_count": 18,
   "metadata": {},
   "outputs": [
    {
     "name": "stdout",
     "output_type": "stream",
     "text": [
      "[3, 4, 2]\n",
      "[]\n",
      "[7, 0]\n"
     ]
    }
   ],
   "source": [
    "def valores_iguais (lista1, lista2):\n",
    "    listaValoresIguais = []\n",
    "    for i in range (len (lista1)):\n",
    "        for j in range (len (lista2)):\n",
    "            if (lista1[i] == lista2[j]):\n",
    "                listaValoresIguais.append (lista1[i])\n",
    "\n",
    "    return listaValoresIguais\n",
    "\n",
    "print (valores_iguais ([3, -1, 4, 2], [2, 1, 4, 3]))\n",
    "print (valores_iguais ([1, 2, 3], [-1, 0, 0.8]))\n",
    "print (valores_iguais ([7, 10, 0], [-1, 2, 1, 0, 7]))"
   ]
  },
  {
   "cell_type": "code",
   "execution_count": null,
   "metadata": {},
   "outputs": [],
   "source": [
    "# indice_prim_valor_igual(lista1,lista2): retorna a \n",
    "# posição na lista1 do primeiro valor igual ao da lista2.\n",
    "# Caso não exista, é retornado None.\n"
   ]
  },
  {
   "cell_type": "code",
   "execution_count": 19,
   "metadata": {},
   "outputs": [],
   "source": [
    "def indice_prim_valor_igual (lista1, lista2):\n",
    "    for i in range (len (lista1)):\n",
    "        for j in range (len (lista2)):\n",
    "            if (lista1[i] == lista2[j]):\n",
    "                return i\n",
    "            \n",
    "    return None"
   ]
  },
  {
   "cell_type": "code",
   "execution_count": 22,
   "metadata": {},
   "outputs": [
    {
     "name": "stdout",
     "output_type": "stream",
     "text": [
      "0\n",
      "None\n",
      "2\n"
     ]
    }
   ],
   "source": [
    "print (indice_prim_valor_igual ([5, 4, 3, 2], [3, 5, 4, 2]))\n",
    "print (indice_prim_valor_igual ([3, 1, 2], [4, 5, 6]))\n",
    "print (indice_prim_valor_igual ([-1, 0.8, 3], [2, 4, 3]))"
   ]
  }
 ],
 "metadata": {
  "kernelspec": {
   "display_name": "Python 3",
   "language": "python",
   "name": "python3"
  },
  "language_info": {
   "codemirror_mode": {
    "name": "ipython",
    "version": 3
   },
   "file_extension": ".py",
   "mimetype": "text/x-python",
   "name": "python",
   "nbconvert_exporter": "python",
   "pygments_lexer": "ipython3",
   "version": "3.11.4"
  }
 },
 "nbformat": 4,
 "nbformat_minor": 2
}
