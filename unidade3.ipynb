{
 "cells": [
  {
   "cell_type": "code",
   "execution_count": 8,
   "metadata": {},
   "outputs": [],
   "source": [
    "# exercício 0.1:\n",
    "def ordenar (vetor):\n",
    "    for i in range (len(vetor)):\n",
    "        for j in range (i + 1, len (vetor), 1):\n",
    "            if vetor[i] > vetor[j]:\n",
    "                aux = vetor[i]\n",
    "                vetor[i] = vetor[j]\n",
    "                vetor[j] = aux\n",
    "\n",
    "def metodos_vetor (vetor):\n",
    "    ordenar (vetor)\n",
    "    vetor.remove (vetor[len(vetor) - 1])\n",
    "    vetor.insert (0, \"abacate\")\n",
    "    return vetor"
   ]
  },
  {
   "cell_type": "code",
   "execution_count": 9,
   "metadata": {},
   "outputs": [
    {
     "name": "stdout",
     "output_type": "stream",
     "text": [
      "['abacate', 'abacaxi', 'maçã', 'pera']\n",
      "['abacate', 'abacaxi', 'banana']\n"
     ]
    }
   ],
   "source": [
    "# testes:\n",
    "vetor_str = [\"uva\", \"maçã\", \"abacaxi\", \"pera\"]\n",
    "vetor_final = metodos_vetor(vetor_str)\n",
    "print(vetor_final)\n",
    "\n",
    "vetor_str = [\"tomate\", \"abacaxi\", \"banana\"]\n",
    "print (metodos_vetor (vetor_str))"
   ]
  },
  {
   "cell_type": "code",
   "execution_count": 10,
   "metadata": {},
   "outputs": [],
   "source": [
    "# exercício 0.2:\n",
    "def metodos_string (string):\n",
    "    string = string.upper ()\n",
    "    string = string.replace ('O', 'A')\n",
    "    return string"
   ]
  },
  {
   "cell_type": "code",
   "execution_count": 11,
   "metadata": {},
   "outputs": [
    {
     "name": "stdout",
     "output_type": "stream",
     "text": [
      "CAMEMARAÇÃA\n",
      "ALHA\n"
     ]
    }
   ],
   "source": [
    "# testes\n",
    "str_1 = \"comemoração\"\n",
    "str_2 = \"olho\"\n",
    "\n",
    "print (metodos_string (str_1))\n",
    "print (metodos_string (str_2))"
   ]
  },
  {
   "cell_type": "code",
   "execution_count": 26,
   "metadata": {},
   "outputs": [],
   "source": [
    "\n",
    "# exercício 0.2 - unidade 1:\n",
    "def obtem_mes(num_mes):\n",
    "    if(num_mes < 1 or num_mes > 12):\n",
    "        return f\"{num_mes} é inválido\"\n",
    "    \n",
    "    meses = [\n",
    "        \"janeiro\",\n",
    "        \"fevereiro\",\n",
    "        \"março\",\n",
    "        \"abril\",\n",
    "        \"maio\",\n",
    "        \"junho\",\n",
    "        \"julho\",\n",
    "        \"agosto\",\n",
    "        \"setembro\",\n",
    "        \"outubro\",\n",
    "        \"novembro\",\n",
    "        \"dezembro\"\n",
    "    ]\n",
    "    \n",
    "    return meses[num_mes-1]\n",
    "\n",
    "# exercício 1:\n",
    "def converte_data (data):\n",
    "    data = data.split (\"/\")\n",
    "    dia = data[0]\n",
    "    mes = int (data[1])\n",
    "    ano = data[2]\n",
    "    str_mes = obtem_mes (mes)\n",
    "    data_por_extenso = f\"{dia} de {str_mes} de {ano}\"\n",
    "    return data_por_extenso"
   ]
  },
  {
   "cell_type": "code",
   "execution_count": 27,
   "metadata": {},
   "outputs": [
    {
     "name": "stdout",
     "output_type": "stream",
     "text": [
      "31 de outubro de 2020\n",
      "22 de janeiro de 2004\n"
     ]
    }
   ],
   "source": [
    "# testes\n",
    "data_1 = \"31/10/2020\"\n",
    "data_2 = \"22/01/2004\"\n",
    "\n",
    "print (converte_data (data_1))\n",
    "print (converte_data (data_2))"
   ]
  },
  {
   "cell_type": "code",
   "execution_count": 51,
   "metadata": {},
   "outputs": [],
   "source": [
    "# exercício 2:\n",
    "def elimina_caracteres(texto, caracteres_para_eliminar):\n",
    "    for caracter_eliminar in caracteres_para_eliminar:\n",
    "        texto = texto.replace (caracter_eliminar, \"\")\n",
    "    \n",
    "    return texto"
   ]
  },
  {
   "cell_type": "code",
   "execution_count": 52,
   "metadata": {},
   "outputs": [
    {
     "name": "stdout",
     "output_type": "stream",
     "text": [
      "rrnd ntra  tmp\n",
      "trgo para tgrs trsts\n"
     ]
    }
   ],
   "source": [
    "# testes\n",
    "resultado_1 = elimina_caracteres('correndo contra o tempo', 'coe')\n",
    "resultado_2 = elimina_caracteres('trigo para tigres tristes', 'ie')\n",
    "\n",
    "print (resultado_1)\n",
    "print (resultado_2)"
   ]
  },
  {
   "cell_type": "code",
   "execution_count": 53,
   "metadata": {},
   "outputs": [],
   "source": [
    "# exercício 2:\n",
    "def substitua_caracteres(texto, caracteres_procura, caracteres_substituir_por):\n",
    "    for i in range(len(caracteres_procura)):\n",
    "        caractere_procura = caracteres_procura[i]\n",
    "        caractere_substituir_por = caracteres_substituir_por[i]\n",
    "        texto = texto.replace (caractere_procura, caractere_substituir_por)\n",
    "        \n",
    "    return texto"
   ]
  },
  {
   "cell_type": "code",
   "execution_count": 55,
   "metadata": {},
   "outputs": [
    {
     "name": "stdout",
     "output_type": "stream",
     "text": [
      "i sipi nii livi i pu\n",
      "unu cempreu umu urerunhu\n"
     ]
    }
   ],
   "source": [
    "# testes:\n",
    "resultado_1 = substitua_caracteres('o sapo nao lava o pe', 'aoe', 'iiu')\n",
    "resultado_2 = substitua_caracteres('ana comprou uma ariranha', 'aoi', 'uee')\n",
    "\n",
    "print (resultado_1)\n",
    "print (resultado_2)"
   ]
  },
  {
   "cell_type": "code",
   "execution_count": 84,
   "metadata": {},
   "outputs": [],
   "source": [
    "# exercício 3:\n",
    "def verifica_palindromo(texto:str)->bool:\n",
    "    texto = texto.lower ()\n",
    "    texto = substitua_caracteres (texto, \"áàâãçéèêéíìîôõóòúùû\", \"aaaaceeeeiiioooouuu\")\n",
    "    texto = elimina_caracteres (texto, \"?!@#[];.,+-()%&/\")\n",
    "    texto = elimina_caracteres (texto, \" \")\n",
    "\n",
    "    aux = []\n",
    "    for i in range (len (texto) - 1, -1, -1):\n",
    "        aux.append (texto[i])\n",
    "    \n",
    "    for i in range (len (aux)):\n",
    "        if (aux[i] != texto[i]):\n",
    "            return False\n",
    "    \n",
    "    return True"
   ]
  },
  {
   "cell_type": "code",
   "execution_count": 85,
   "metadata": {},
   "outputs": [
    {
     "name": "stdout",
     "output_type": "stream",
     "text": [
      "True\n",
      "False\n",
      "True\n"
     ]
    }
   ],
   "source": [
    "# testes:\n",
    "print (verifica_palindromo(\"após a sopa\")) \n",
    "print (verifica_palindromo(\"azul\"))\n",
    "print (verifica_palindromo(\"Ame a ema.\"))"
   ]
  },
  {
   "cell_type": "code",
   "execution_count": 86,
   "metadata": {},
   "outputs": [],
   "source": [
    "# exercício 4:\n",
    "def da_oi_para(funcao_de_dar_oi, str_pessoa):\n",
    "    #independente do nome da função externa, invocamos ela como funcao_de_dar_oi\n",
    "    str_oi = funcao_de_dar_oi(str_pessoa)\n",
    "    \n",
    "    print(\"============= Minha linda interface de dar oi =========\")\n",
    "    print(str_oi)\n",
    "    print(\"=========================================================\")"
   ]
  },
  {
   "cell_type": "code",
   "execution_count": 87,
   "metadata": {},
   "outputs": [],
   "source": [
    "def oi_portugues_formal(str_pessoa):\n",
    "    return f\"Oi Sr(a). {str_pessoa}, como vai?\"\n",
    "\n",
    "oi_portugues = lambda str_pessoa : f\"Oi {str_pessoa}, blza?\""
   ]
  },
  {
   "cell_type": "code",
   "execution_count": 88,
   "metadata": {},
   "outputs": [
    {
     "name": "stdout",
     "output_type": "stream",
     "text": [
      "============= Minha linda interface de dar oi =========\n",
      "Oi Sr(a). Pessoinha, como vai?\n",
      "=========================================================\n",
      "============= Minha linda interface de dar oi =========\n",
      "Oi Pessoinha, blza?\n",
      "=========================================================\n",
      "============= Minha linda interface de dar oi =========\n",
      "Hi Pessoinha, how are you?\n",
      "=========================================================\n"
     ]
    }
   ],
   "source": [
    "da_oi_para(oi_portugues_formal, \"Pessoinha\")\n",
    "da_oi_para(oi_portugues, \"Pessoinha\")\n",
    "da_oi_para(lambda str_pessoa : f\"Hi {str_pessoa}, how are you?\", \"Pessoinha\")"
   ]
  },
  {
   "cell_type": "code",
   "execution_count": 89,
   "metadata": {},
   "outputs": [
    {
     "name": "stdout",
     "output_type": "stream",
     "text": [
      "============= Minha linda interface de dar oi =========\n",
      "Oi Sr(a). Rafa, como vai?\n",
      "=========================================================\n",
      "============= Minha linda interface de dar oi =========\n",
      "Oi Rafa, blza?\n",
      "=========================================================\n",
      "============= Minha linda interface de dar oi =========\n",
      "Hi Rafa, how are you?\n",
      "=========================================================\n"
     ]
    }
   ],
   "source": [
    "# exercício 4 - minha função\n",
    "da_oi_para (oi_portugues_formal, \"Rafa\")\n",
    "da_oi_para (oi_portugues, \"Rafa\")\n",
    "da_oi_para (lambda str_pessoa : f\"Hi {str_pessoa}, how are you?\", \"Rafa\")"
   ]
  },
  {
   "cell_type": "code",
   "execution_count": 104,
   "metadata": {},
   "outputs": [],
   "source": [
    "# exercício 5:\n",
    "def soma (a, b):\n",
    "    return a + b\n",
    "\n",
    "multiplica = lambda a, b : a * b\n",
    "\n",
    "def operacao_vetor (operacao, vetor1, vetor2):\n",
    "    if (len (vetor1) != len (vetor2)):\n",
    "        print (\"Vetores são de tamanhos diferentes!!\")\n",
    "        return\n",
    "\n",
    "    vetor_auxiliar = []\n",
    "    for i in range (len (vetor1)):\n",
    "        vetor_auxiliar.append (operacao (vetor1[i], vetor2[i]))\n",
    "    \n",
    "    return vetor_auxiliar"
   ]
  },
  {
   "cell_type": "code",
   "execution_count": 106,
   "metadata": {},
   "outputs": [
    {
     "name": "stdout",
     "output_type": "stream",
     "text": [
      "[6, 8, 10, 12, 14]\n",
      "[5, 12, 21, 32, 45]\n",
      "[1, 1, 1, 1, 1]\n"
     ]
    }
   ],
   "source": [
    "# testes:\n",
    "print (operacao_vetor (soma, [1, 2, 3, 4, 5], [5, 6, 7, 8, 9]))\n",
    "print (operacao_vetor (multiplica, [1, 2, 3, 4, 5], [5, 6, 7, 8, 9]))\n",
    "print (operacao_vetor (lambda a, b : a - b, [1, 2, 3, 4, 5], [0, 1, 2, 3, 4]))"
   ]
  }
 ],
 "metadata": {
  "kernelspec": {
   "display_name": "Python 3",
   "language": "python",
   "name": "python3"
  },
  "language_info": {
   "codemirror_mode": {
    "name": "ipython",
    "version": 3
   },
   "file_extension": ".py",
   "mimetype": "text/x-python",
   "name": "python",
   "nbconvert_exporter": "python",
   "pygments_lexer": "ipython3",
   "version": "3.11.4"
  }
 },
 "nbformat": 4,
 "nbformat_minor": 2
}
